{
 "cells": [
  {
   "cell_type": "markdown",
   "metadata": {},
   "source": [
    "# Visualing the Attention Maps with Mixtral 8x7B\n",
    "\n",
    "This experiment is in visualizing the attention maps in GPT-2. I want to see\n",
    "- which token the different heads of a single layer pay attention to\n",
    "- which token the same heads in different layers pay attention to. "
   ]
  },
  {
   "cell_type": "code",
   "execution_count": 2,
   "metadata": {},
   "outputs": [],
   "source": [
    "import torch as t\n",
    "import pandas as pd\n",
    "from transformers import AutoModel, AutoTokenizer, BitsAndBytesConfig\n",
    "from datasets import load_dataset\n",
    "import altair as alt\n",
    "\n",
    "import os\n",
    "from dotenv import load_dotenv\n",
    "from huggingface_hub import login"
   ]
  },
  {
   "cell_type": "code",
   "execution_count": 3,
   "metadata": {},
   "outputs": [
    {
     "name": "stdout",
     "output_type": "stream",
     "text": [
      "The token has not been saved to the git credentials helper. Pass `add_to_git_credential=True` in this function directly or `--add-to-git-credential` if using via `huggingface-cli` if you want to set the git credential as well.\n",
      "Token is valid (permission: write).\n",
      "Your token has been saved to /Users/kj3moraes/.cache/huggingface/token\n",
      "Login successful\n"
     ]
    }
   ],
   "source": [
    "load_dotenv()\n",
    "HF_TOKEN = os.getenv(\"HF_TOKEN\")\n",
    "login(HF_TOKEN)"
   ]
  },
  {
   "cell_type": "code",
   "execution_count": 8,
   "metadata": {},
   "outputs": [
    {
     "data": {
      "application/vnd.jupyter.widget-view+json": {
       "model_id": "7f2f8c8dfd034def8f3e6a73e1bbd335",
       "version_major": 2,
       "version_minor": 0
      },
      "text/plain": [
       "Downloading shards:   0%|          | 0/19 [00:00<?, ?it/s]"
      ]
     },
     "metadata": {},
     "output_type": "display_data"
    },
    {
     "data": {
      "application/vnd.jupyter.widget-view+json": {
       "model_id": "58e969770de8419199cb851a01591695",
       "version_major": 2,
       "version_minor": 0
      },
      "text/plain": [
       "model-00001-of-00019.safetensors:   0%|          | 0.00/4.89G [00:00<?, ?B/s]"
      ]
     },
     "metadata": {},
     "output_type": "display_data"
    }
   ],
   "source": [
    "model_id = \"mistralai/Mixtral-8x7B-v0.1\"\n",
    "\n",
    "bnb_config = BitsAndBytesConfig(\n",
    "    load_in_4bit=True,\n",
    "    bnb_4bit_use_double_quant=True,\n",
    "    bnb_4bit_compute_dtype=t.float16\n",
    ")\n",
    "\n",
    "model = AutoModel.from_pretrained(model_id, output_attentions=True)\n",
    "tokenizer = AutoTokenizer.from_pretrained(model_id, add_prefix_space=True)"
   ]
  },
  {
   "cell_type": "markdown",
   "metadata": {},
   "source": [
    "## Attention Map Functions "
   ]
  },
  {
   "cell_type": "code",
   "execution_count": null,
   "metadata": {},
   "outputs": [],
   "source": [
    "def mtx2df(m, max_row, max_col, row_tokens, col_tokens):\n",
    "    \"convert a dense matrix to a data frame with row and column indices\"\n",
    "    return pd.DataFrame(\n",
    "        [\n",
    "            (\n",
    "                r,\n",
    "                c,\n",
    "                float(m[r, c]),\n",
    "                \"%s\"\n",
    "                % row_tokens[r] if len(row_tokens) > r else \"<blank>\",\n",
    "                \"%s\"\n",
    "                % col_tokens[c] if len(col_tokens) > c else \"<blank>\",\n",
    "            )\n",
    "            for r in range(m.shape[0])\n",
    "            for c in range(m.shape[1])\n",
    "            if r < max_row and c < max_col\n",
    "        ],\n",
    "        # if float(m[r,c]) != 0 and r < max_row and c < max_col],\n",
    "        columns=[\"row\", \"column\", \"value\", \"row_token\", \"col_token\"],\n",
    "    )\n",
    "\n",
    "def visualize_head(attn, head, row_tokens, col_tokens, max_dim=30):\n",
    "    df = mtx2df(attn[0, head].data, max_dim, max_dim, row_tokens, col_tokens)\n",
    "    return (\n",
    "        alt.Chart(data=df)\n",
    "        .mark_rect()\n",
    "        .encode(\n",
    "            x=alt.X(\"col_token\", axis=alt.Axis(title=\"\")),\n",
    "            y=alt.Y(\"row_token\", axis=alt.Axis(title=\"\")),\n",
    "            color=\"value\",\n",
    "            tooltip=[\"row\", \"column\", \"value\", \"row_token\", \"col_token\"],\n",
    "        )\n",
    "        .properties(title=f\"Head {head}\", height=200, width=200)\n",
    "        .interactive()\n",
    "    )\n",
    "\n",
    "def visualize_layer(attn, layer, heads, ntokens, row_words, col_words):\n",
    "    charts = [\n",
    "        visualize_head(\n",
    "            attn,\n",
    "            h,\n",
    "            row_tokens=row_words,\n",
    "            col_tokens=col_words,\n",
    "            max_dim=ntokens,\n",
    "        )\n",
    "        for h in heads\n",
    "    ]\n",
    "    return alt.hconcat(*charts).properties(title=f\"Layer {layer}\")\n",
    "\n",
    "    \n",
    "def visualize_model_attns(model, tokenizer, text: str, view_layers:list=[], view_heads:list=[]): \n",
    "    \"\"\" Given a model, a tokinizer and an input string, will output the attentin heat maps for the specified layers \n",
    "        and mutli-attention heads. \n",
    "\n",
    "    Args:\n",
    "        model: Model to run the text through \n",
    "        tokenizer: Tokenizer for the text \n",
    "        text (str): Text to be visualized \n",
    "        view_layers (list, optional): The layers that you want displayed. Every element must be 0 <= l < N_LAYERS. Defaults to [].\n",
    "        view_heads (list, optional): The heads that you want displayed. Every element must be 0 <= l < N_HEADS. Defaults to [].\n",
    "\n",
    "    Returns:\n",
    "        altair heat map. \n",
    "    \"\"\"\n",
    "\n",
    "    tokens = tokenizer.encode(text, return_tensors='pt')\n",
    "    n_tokens = tokens.size(-1)\n",
    "    words = tokenizer.convert_ids_to_tokens(tokens[0])\n",
    "    attns = model(tokens).attentions\n",
    "    \n",
    "    layer_maps = [] \n",
    "    for layer_num in view_layers:\n",
    "        layer_maps.append(visualize_layer(attns[layer_num], layer_num, view_heads, n_tokens, words, words)) \n",
    "\n",
    "    return  alt.vconcat(*layer_maps)"
   ]
  },
  {
   "cell_type": "code",
   "execution_count": null,
   "metadata": {},
   "outputs": [],
   "source": []
  }
 ],
 "metadata": {
  "kernelspec": {
   "display_name": "llm-viz-5M-np4rU-py3.11",
   "language": "python",
   "name": "python3"
  },
  "language_info": {
   "codemirror_mode": {
    "name": "ipython",
    "version": 3
   },
   "file_extension": ".py",
   "mimetype": "text/x-python",
   "name": "python",
   "nbconvert_exporter": "python",
   "pygments_lexer": "ipython3",
   "version": "3.11.9"
  }
 },
 "nbformat": 4,
 "nbformat_minor": 2
}
