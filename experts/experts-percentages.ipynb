{
 "cells": [
  {
   "cell_type": "markdown",
   "metadata": {},
   "source": [
    "## Expert Usage for Mixtral 8x7B\n",
    "\n",
    "After experimenting with the expert hooks in Mixtral 8x7B, I want to see how many tokens of different datasets are sent to which "
   ]
  },
  {
   "cell_type": "code",
   "execution_count": 11,
   "metadata": {},
   "outputs": [],
   "source": [
    "import torch as t\n",
    "import pandas as pd\n",
    "from transformers import AutoModel, AutoTokenizer, BitsAndBytesConfig\n",
    "from datasets import load_dataset\n",
    "import altair as alt\n",
    "from tqdm import tqdm\n",
    "\n",
    "import os\n",
    "from collections import defaultdict\n",
    "from dotenv import load_dotenv\n",
    "from huggingface_hub import login"
   ]
  },
  {
   "cell_type": "code",
   "execution_count": 2,
   "metadata": {},
   "outputs": [
    {
     "name": "stdout",
     "output_type": "stream",
     "text": [
      "Token is valid (permission: write).\n",
      "Your token has been saved in your configured git credential helpers (store).\n",
      "Your token has been saved to /home/ubuntu/.cache/huggingface/token\n",
      "Login successful\n"
     ]
    }
   ],
   "source": [
    "load_dotenv()\n",
    "login(os.getenv(\"HF_TOKEN\"), add_to_git_credential=True)"
   ]
  },
  {
   "cell_type": "markdown",
   "metadata": {},
   "source": [
    "## Datasets\n",
    "\n",
    "I will be using 3 different datasets, and recording the percentages of tokens hanldled by each of the experts in the first and the last layers of the model. Let's see how this differs for different datasets. The datasets are\n",
    "- `stanfordnlp/imdb` - this is a classification task for movie reviews.\n",
    "- `databricks/databricks-dolly-15k` - plain 'ol question answering\n",
    "- `bigcode/bigcodebench` - code generation from prompt"
   ]
  },
  {
   "cell_type": "code",
   "execution_count": 3,
   "metadata": {},
   "outputs": [],
   "source": [
    "imdb_dataset = load_dataset(\"stanfordnlp/imdb\", split=\"test\")\n",
    "qa_dataset = load_dataset(\"databricks/databricks-dolly-15k\", split=\"train\")\n",
    "code_dataset = load_dataset(\"bigcode/bigcodebench\", split=\"v0.1.0_hf\")"
   ]
  },
  {
   "cell_type": "markdown",
   "metadata": {},
   "source": [
    "## Model Setup"
   ]
  },
  {
   "cell_type": "code",
   "execution_count": 4,
   "metadata": {},
   "outputs": [
    {
     "name": "stderr",
     "output_type": "stream",
     "text": [
      "Loading checkpoint shards: 100%|██████████| 19/19 [02:18<00:00,  7.29s/it]\n"
     ]
    }
   ],
   "source": [
    "model_id = \"mistralai/Mixtral-8x7B-Instruct-v0.1\"\n",
    "\n",
    "bnb_config = BitsAndBytesConfig(\n",
    "    load_in_4bit=True,\n",
    "    bnb_4bit_compute_dtype=t.float16,\n",
    "    bnb_4bit_use_double_quant=True\n",
    ")\n",
    "\n",
    "model = AutoModel.from_pretrained(model_id, quantization_config=bnb_config, device_map=\"auto\")\n",
    "tokenizer = AutoTokenizer.from_pretrained(model_id)\n",
    "tokenizer.pad_token = tokenizer.eos_token"
   ]
  },
  {
   "cell_type": "code",
   "execution_count": 5,
   "metadata": {},
   "outputs": [
    {
     "name": "stdout",
     "output_type": "stream",
     "text": [
      "MixtralModel(\n",
      "  (embed_tokens): Embedding(32000, 4096)\n",
      "  (layers): ModuleList(\n",
      "    (0-31): 32 x MixtralDecoderLayer(\n",
      "      (self_attn): MixtralSdpaAttention(\n",
      "        (q_proj): Linear4bit(in_features=4096, out_features=4096, bias=False)\n",
      "        (k_proj): Linear4bit(in_features=4096, out_features=1024, bias=False)\n",
      "        (v_proj): Linear4bit(in_features=4096, out_features=1024, bias=False)\n",
      "        (o_proj): Linear4bit(in_features=4096, out_features=4096, bias=False)\n",
      "        (rotary_emb): MixtralRotaryEmbedding()\n",
      "      )\n",
      "      (block_sparse_moe): MixtralSparseMoeBlock(\n",
      "        (gate): Linear4bit(in_features=4096, out_features=8, bias=False)\n",
      "        (experts): ModuleList(\n",
      "          (0-7): 8 x MixtralBlockSparseTop2MLP(\n",
      "            (w1): Linear4bit(in_features=4096, out_features=14336, bias=False)\n",
      "            (w2): Linear4bit(in_features=14336, out_features=4096, bias=False)\n",
      "            (w3): Linear4bit(in_features=4096, out_features=14336, bias=False)\n",
      "            (act_fn): SiLU()\n",
      "          )\n",
      "        )\n",
      "      )\n",
      "      (input_layernorm): MixtralRMSNorm()\n",
      "      (post_attention_layernorm): MixtralRMSNorm()\n",
      "    )\n",
      "  )\n",
      "  (norm): MixtralRMSNorm()\n",
      ")\n"
     ]
    }
   ],
   "source": [
    "NUM_LAYERS = len(model.layers)\n",
    "NUM_EXPERTS = len(model.layers[0].block_sparse_moe.experts)\n",
    "print(model)"
   ]
  },
  {
   "cell_type": "code",
   "execution_count": 6,
   "metadata": {},
   "outputs": [],
   "source": [
    "first_layer_usage = defaultdict(int)\n",
    "last_layer_usage = defaultdict(int)\n",
    "\n",
    "# these two will store the values for all the datasets \n",
    "all_first_layer_usages = dict()\n",
    "all_last_layer_usages = dict()"
   ]
  },
  {
   "cell_type": "code",
   "execution_count": 7,
   "metadata": {},
   "outputs": [],
   "source": [
    "def first_layer_update(module, input, output):\n",
    "    _, topk_index = t.topk(output, 2, dim=1) \n",
    "    # topk_list of of the shape [S_l, 2] where S_l is the length of the sequence\n",
    "    topk_list = topk_index.tolist()\n",
    "\n",
    "    # iterate over all the tokens in the sequence\n",
    "    for topk in topk_list: \n",
    "        expert_1, expert_2 = tuple(topk) \n",
    "        first_layer_usage[expert_1] += 1\n",
    "        first_layer_usage[expert_2] += 1\n",
    "\n",
    "def last_layer_update(module, input, output): \n",
    "    _, topk_index = t.topk(output, 2, dim=1) \n",
    "    # topk_list of of the shape [S_l, 2] where S_l is the length of the sequence\n",
    "    topk_list = topk_index.tolist()\n",
    "\n",
    "    # iterate over all the tokens in the sequence\n",
    "    for topk in topk_list: \n",
    "        expert_1, expert_2 = tuple(topk) \n",
    "        last_layer_usage[expert_1] += 1\n",
    "        last_layer_usage[expert_2] += 1\n"
   ]
  },
  {
   "cell_type": "markdown",
   "metadata": {},
   "source": [
    "I will only register the hooks for the first and the last experts. We can try and visualize these then."
   ]
  },
  {
   "cell_type": "code",
   "execution_count": 8,
   "metadata": {},
   "outputs": [],
   "source": [
    "hooks = []\n",
    "hooks.append(model.layers[0].block_sparse_moe.gate.register_forward_hook(first_layer_update))\n",
    "hooks.append(model.layers[-1].block_sparse_moe.gate.register_forward_hook(last_layer_update))"
   ]
  },
  {
   "cell_type": "markdown",
   "metadata": {},
   "source": [
    "## Running the Experiment"
   ]
  },
  {
   "cell_type": "code",
   "execution_count": 51,
   "metadata": {},
   "outputs": [],
   "source": [
    "def normalize_dataset(usage: dict, total_num_tokens: int) -> dict:\n",
    "    norm_usage = usage.copy()\n",
    "    for expert_num, expert_usage in usage.items():\n",
    "        norm_usage[expert_num] = expert_usage / total_num_tokens\n",
    "    \n",
    "    return norm_usage"
   ]
  },
  {
   "cell_type": "code",
   "execution_count": 52,
   "metadata": {},
   "outputs": [
    {
     "name": "stderr",
     "output_type": "stream",
     "text": [
      "100%|██████████| 50/50 [00:13<00:00,  3.62it/s]\n"
     ]
    }
   ],
   "source": [
    "first_layer_usage = defaultdict(int)\n",
    "last_layer_usage = defaultdict(int)\n",
    "\n",
    "dataset = qa_dataset[\"instruction\"]\n",
    "num_tokens = tokenizer(\"\".join(dataset), return_length=True).length[0]\n",
    "for instruction in tqdm(dataset):\n",
    "    tok_instruction = tokenizer(instruction, return_tensors=\"pt\")\n",
    "    outputs = model(**tok_instruction)\n",
    "\n",
    "all_first_layer_usages[\"qa\"] = normalize_dataset(first_layer_usage, num_tokens)\n",
    "all_last_layer_usages[\"qa\"] = normalize_dataset(last_layer_usage, num_tokens)"
   ]
  },
  {
   "cell_type": "code",
   "execution_count": 55,
   "metadata": {},
   "outputs": [
    {
     "name": "stderr",
     "output_type": "stream",
     "text": [
      "100%|██████████| 50/50 [00:14<00:00,  3.40it/s]\n"
     ]
    }
   ],
   "source": [
    "first_layer_usage = defaultdict(int)\n",
    "last_layer_usage = defaultdict(int)\n",
    "\n",
    "dataset = code_dataset[\"instruct_prompt\"]\n",
    "num_tokens = tokenizer(\"\".join(dataset), return_length=True).length[0]\n",
    "for instruction in tqdm(dataset):\n",
    "    tok_instruction = tokenizer(instruction, return_tensors=\"pt\")\n",
    "    outputs = model(**tok_instruction) \n",
    "\n",
    "all_first_layer_usages[\"code\"] = normalize_dataset(first_layer_usage, num_tokens)\n",
    "all_last_layer_usages[\"code\"] = normalize_dataset(last_layer_usage, num_tokens) "
   ]
  },
  {
   "cell_type": "code",
   "execution_count": 56,
   "metadata": {},
   "outputs": [
    {
     "name": "stderr",
     "output_type": "stream",
     "text": [
      "  0%|          | 0/50 [00:00<?, ?it/s]"
     ]
    },
    {
     "name": "stderr",
     "output_type": "stream",
     "text": [
      "100%|██████████| 50/50 [00:14<00:00,  3.35it/s]\n"
     ]
    }
   ],
   "source": [
    "first_layer_usage = defaultdict(int)\n",
    "last_layer_usage = defaultdict(int)\n",
    "\n",
    "dataset = imdb_dataset[\"text\"]\n",
    "num_tokens = tokenizer(\"\".join(dataset), return_length=True).length[0]\n",
    "for review in tqdm(dataset):\n",
    "    preprompt = \"Classify this as a negative or positive review\"\n",
    "    tok_instruction = tokenizer(f\"{preprompt}:{instruction}\", return_tensors=\"pt\")\n",
    "    outputs = model(**tok_instruction)    \n",
    "\n",
    "all_first_layer_usages[\"imdb\"] = normalize_dataset(first_layer_usage, num_tokens)\n",
    "all_last_layer_usages[\"imbd\"] = normalize_dataset(last_layer_usage, num_tokens)"
   ]
  },
  {
   "cell_type": "code",
   "execution_count": null,
   "metadata": {},
   "outputs": [],
   "source": [
    "for hook in hooks:\n",
    "    hook.remove()"
   ]
  },
  {
   "cell_type": "markdown",
   "metadata": {},
   "source": [
    "## Plotting \n",
    "\n",
    "Now we can plot these usage charts per dataset. The first and the last layers will be printed seperately. Essentially I want to see how much each expert gets used in each of the datasets."
   ]
  },
  {
   "cell_type": "code",
   "execution_count": 57,
   "metadata": {},
   "outputs": [],
   "source": [
    "def get_usage_chart(usage: dict):\n",
    "    # Convert the dictionary to a DataFrame\n",
    "    data = []\n",
    "    for category, values in usage.items():\n",
    "        for key, value in values.items():\n",
    "            data.append({\"Category\": category, \"Key\": key, \"Value\": value})\n",
    "\n",
    "    df = pd.DataFrame(data)\n",
    "\n",
    "    # Create the Altair chart\n",
    "    chart = alt.Chart(df).mark_bar().encode(\n",
    "        x=alt.X('Key:O', title='Keys'),\n",
    "        y=alt.Y('Value:Q', title='Values'),\n",
    "        color=alt.Color('Category:N', scale=alt.Scale(scheme='category10')),\n",
    "        column=alt.Column('Category:N', title=None)\n",
    "    ).properties(\n",
    "        width=300,\n",
    "        height=400,\n",
    "        title='Values for Each Category'\n",
    "    )\n",
    "    return chart"
   ]
  },
  {
   "cell_type": "code",
   "execution_count": 58,
   "metadata": {},
   "outputs": [],
   "source": [
    "first_layer_chart = get_usage_chart(all_first_layer_usages)\n",
    "last_layer_chart = get_usage_chart(all_last_layer_usages)"
   ]
  },
  {
   "cell_type": "code",
   "execution_count": 59,
   "metadata": {},
   "outputs": [
    {
     "data": {
      "text/html": [
       "\n",
       "<style>\n",
       "  #altair-viz-8821084e0d004e7dba9e12bad53d3477.vega-embed {\n",
       "    width: 100%;\n",
       "    display: flex;\n",
       "  }\n",
       "\n",
       "  #altair-viz-8821084e0d004e7dba9e12bad53d3477.vega-embed details,\n",
       "  #altair-viz-8821084e0d004e7dba9e12bad53d3477.vega-embed details summary {\n",
       "    position: relative;\n",
       "  }\n",
       "</style>\n",
       "<div id=\"altair-viz-8821084e0d004e7dba9e12bad53d3477\"></div>\n",
       "<script type=\"text/javascript\">\n",
       "  var VEGA_DEBUG = (typeof VEGA_DEBUG == \"undefined\") ? {} : VEGA_DEBUG;\n",
       "  (function(spec, embedOpt){\n",
       "    let outputDiv = document.currentScript.previousElementSibling;\n",
       "    if (outputDiv.id !== \"altair-viz-8821084e0d004e7dba9e12bad53d3477\") {\n",
       "      outputDiv = document.getElementById(\"altair-viz-8821084e0d004e7dba9e12bad53d3477\");\n",
       "    }\n",
       "    const paths = {\n",
       "      \"vega\": \"https://cdn.jsdelivr.net/npm/vega@5?noext\",\n",
       "      \"vega-lib\": \"https://cdn.jsdelivr.net/npm/vega-lib?noext\",\n",
       "      \"vega-lite\": \"https://cdn.jsdelivr.net/npm/vega-lite@5.17.0?noext\",\n",
       "      \"vega-embed\": \"https://cdn.jsdelivr.net/npm/vega-embed@6?noext\",\n",
       "    };\n",
       "\n",
       "    function maybeLoadScript(lib, version) {\n",
       "      var key = `${lib.replace(\"-\", \"\")}_version`;\n",
       "      return (VEGA_DEBUG[key] == version) ?\n",
       "        Promise.resolve(paths[lib]) :\n",
       "        new Promise(function(resolve, reject) {\n",
       "          var s = document.createElement('script');\n",
       "          document.getElementsByTagName(\"head\")[0].appendChild(s);\n",
       "          s.async = true;\n",
       "          s.onload = () => {\n",
       "            VEGA_DEBUG[key] = version;\n",
       "            return resolve(paths[lib]);\n",
       "          };\n",
       "          s.onerror = () => reject(`Error loading script: ${paths[lib]}`);\n",
       "          s.src = paths[lib];\n",
       "        });\n",
       "    }\n",
       "\n",
       "    function showError(err) {\n",
       "      outputDiv.innerHTML = `<div class=\"error\" style=\"color:red;\">${err}</div>`;\n",
       "      throw err;\n",
       "    }\n",
       "\n",
       "    function displayChart(vegaEmbed) {\n",
       "      vegaEmbed(outputDiv, spec, embedOpt)\n",
       "        .catch(err => showError(`Javascript Error: ${err.message}<br>This usually means there's a typo in your chart specification. See the javascript console for the full traceback.`));\n",
       "    }\n",
       "\n",
       "    if(typeof define === \"function\" && define.amd) {\n",
       "      requirejs.config({paths});\n",
       "      require([\"vega-embed\"], displayChart, err => showError(`Error loading script: ${err.message}`));\n",
       "    } else {\n",
       "      maybeLoadScript(\"vega\", \"5\")\n",
       "        .then(() => maybeLoadScript(\"vega-lite\", \"5.17.0\"))\n",
       "        .then(() => maybeLoadScript(\"vega-embed\", \"6\"))\n",
       "        .catch(showError)\n",
       "        .then(() => displayChart(vegaEmbed));\n",
       "    }\n",
       "  })({\"config\": {\"view\": {\"continuousWidth\": 300, \"continuousHeight\": 300}}, \"data\": {\"name\": \"data-38098c6a2f32d27c732272ed0bea3169\"}, \"mark\": {\"type\": \"bar\"}, \"encoding\": {\"color\": {\"field\": \"Category\", \"scale\": {\"scheme\": \"category10\"}, \"type\": \"nominal\"}, \"column\": {\"field\": \"Category\", \"title\": null, \"type\": \"nominal\"}, \"x\": {\"field\": \"Key\", \"title\": \"Keys\", \"type\": \"ordinal\"}, \"y\": {\"field\": \"Value\", \"title\": \"Values\", \"type\": \"quantitative\"}}, \"height\": 400, \"title\": \"Values for Each Category\", \"width\": 300, \"$schema\": \"https://vega.github.io/schema/vega-lite/v5.17.0.json\", \"datasets\": {\"data-38098c6a2f32d27c732272ed0bea3169\": [{\"Category\": \"qa\", \"Key\": 5, \"Value\": 0.4003044140030441}, {\"Category\": \"qa\", \"Key\": 1, \"Value\": 0.319634703196347}, {\"Category\": \"qa\", \"Key\": 3, \"Value\": 0.2496194824961948}, {\"Category\": \"qa\", \"Key\": 6, \"Value\": 0.2039573820395738}, {\"Category\": \"qa\", \"Key\": 4, \"Value\": 0.243531202435312}, {\"Category\": \"qa\", \"Key\": 7, \"Value\": 0.1796042617960426}, {\"Category\": \"qa\", \"Key\": 0, \"Value\": 0.2146118721461187}, {\"Category\": \"qa\", \"Key\": 2, \"Value\": 0.3287671232876712}, {\"Category\": \"code\", \"Key\": 5, \"Value\": 0.27725783809078147}, {\"Category\": \"code\", \"Key\": 1, \"Value\": 0.24824520355638746}, {\"Category\": \"code\", \"Key\": 3, \"Value\": 0.2950397753860552}, {\"Category\": \"code\", \"Key\": 2, \"Value\": 0.22508189050070193}, {\"Category\": \"code\", \"Key\": 7, \"Value\": 0.22905942910622368}, {\"Category\": \"code\", \"Key\": 4, \"Value\": 0.2798315395414132}, {\"Category\": \"code\", \"Key\": 0, \"Value\": 0.24169396350023398}, {\"Category\": \"code\", \"Key\": 6, \"Value\": 0.21572297613476837}, {\"Category\": \"imdb\", \"Key\": 5, \"Value\": 0.19260950206876873}, {\"Category\": \"imdb\", \"Key\": 1, \"Value\": 0.2675131973177343}, {\"Category\": \"imdb\", \"Key\": 3, \"Value\": 0.28178056784134686}, {\"Category\": \"imdb\", \"Key\": 6, \"Value\": 0.19260950206876873}, {\"Category\": \"imdb\", \"Key\": 7, \"Value\": 0.25681266942502495}, {\"Category\": \"imdb\", \"Key\": 4, \"Value\": 0.28178056784134686}, {\"Category\": \"imdb\", \"Key\": 0, \"Value\": 0.18547581680696248}, {\"Category\": \"imdb\", \"Key\": 2, \"Value\": 0.23897845627050934}]}}, {\"mode\": \"vega-lite\"});\n",
       "</script>"
      ],
      "text/plain": [
       "alt.Chart(...)"
      ]
     },
     "metadata": {},
     "output_type": "display_data"
    }
   ],
   "source": [
    "first_layer_chart.show()"
   ]
  },
  {
   "cell_type": "code",
   "execution_count": 61,
   "metadata": {},
   "outputs": [
    {
     "data": {
      "text/html": [
       "\n",
       "<style>\n",
       "  #altair-viz-b5f0fc801d2540329c1b7cf5b8808f3b.vega-embed {\n",
       "    width: 100%;\n",
       "    display: flex;\n",
       "  }\n",
       "\n",
       "  #altair-viz-b5f0fc801d2540329c1b7cf5b8808f3b.vega-embed details,\n",
       "  #altair-viz-b5f0fc801d2540329c1b7cf5b8808f3b.vega-embed details summary {\n",
       "    position: relative;\n",
       "  }\n",
       "</style>\n",
       "<div id=\"altair-viz-b5f0fc801d2540329c1b7cf5b8808f3b\"></div>\n",
       "<script type=\"text/javascript\">\n",
       "  var VEGA_DEBUG = (typeof VEGA_DEBUG == \"undefined\") ? {} : VEGA_DEBUG;\n",
       "  (function(spec, embedOpt){\n",
       "    let outputDiv = document.currentScript.previousElementSibling;\n",
       "    if (outputDiv.id !== \"altair-viz-b5f0fc801d2540329c1b7cf5b8808f3b\") {\n",
       "      outputDiv = document.getElementById(\"altair-viz-b5f0fc801d2540329c1b7cf5b8808f3b\");\n",
       "    }\n",
       "    const paths = {\n",
       "      \"vega\": \"https://cdn.jsdelivr.net/npm/vega@5?noext\",\n",
       "      \"vega-lib\": \"https://cdn.jsdelivr.net/npm/vega-lib?noext\",\n",
       "      \"vega-lite\": \"https://cdn.jsdelivr.net/npm/vega-lite@5.17.0?noext\",\n",
       "      \"vega-embed\": \"https://cdn.jsdelivr.net/npm/vega-embed@6?noext\",\n",
       "    };\n",
       "\n",
       "    function maybeLoadScript(lib, version) {\n",
       "      var key = `${lib.replace(\"-\", \"\")}_version`;\n",
       "      return (VEGA_DEBUG[key] == version) ?\n",
       "        Promise.resolve(paths[lib]) :\n",
       "        new Promise(function(resolve, reject) {\n",
       "          var s = document.createElement('script');\n",
       "          document.getElementsByTagName(\"head\")[0].appendChild(s);\n",
       "          s.async = true;\n",
       "          s.onload = () => {\n",
       "            VEGA_DEBUG[key] = version;\n",
       "            return resolve(paths[lib]);\n",
       "          };\n",
       "          s.onerror = () => reject(`Error loading script: ${paths[lib]}`);\n",
       "          s.src = paths[lib];\n",
       "        });\n",
       "    }\n",
       "\n",
       "    function showError(err) {\n",
       "      outputDiv.innerHTML = `<div class=\"error\" style=\"color:red;\">${err}</div>`;\n",
       "      throw err;\n",
       "    }\n",
       "\n",
       "    function displayChart(vegaEmbed) {\n",
       "      vegaEmbed(outputDiv, spec, embedOpt)\n",
       "        .catch(err => showError(`Javascript Error: ${err.message}<br>This usually means there's a typo in your chart specification. See the javascript console for the full traceback.`));\n",
       "    }\n",
       "\n",
       "    if(typeof define === \"function\" && define.amd) {\n",
       "      requirejs.config({paths});\n",
       "      require([\"vega-embed\"], displayChart, err => showError(`Error loading script: ${err.message}`));\n",
       "    } else {\n",
       "      maybeLoadScript(\"vega\", \"5\")\n",
       "        .then(() => maybeLoadScript(\"vega-lite\", \"5.17.0\"))\n",
       "        .then(() => maybeLoadScript(\"vega-embed\", \"6\"))\n",
       "        .catch(showError)\n",
       "        .then(() => displayChart(vegaEmbed));\n",
       "    }\n",
       "  })({\"config\": {\"view\": {\"continuousWidth\": 300, \"continuousHeight\": 300}}, \"data\": {\"name\": \"data-54472f9b5832619ff8f7d00ac4250d8a\"}, \"mark\": {\"type\": \"bar\"}, \"encoding\": {\"color\": {\"field\": \"Category\", \"scale\": {\"scheme\": \"category10\"}, \"type\": \"nominal\"}, \"column\": {\"field\": \"Category\", \"title\": null, \"type\": \"nominal\"}, \"x\": {\"field\": \"Key\", \"title\": \"Keys\", \"type\": \"ordinal\"}, \"y\": {\"field\": \"Value\", \"title\": \"Values\", \"type\": \"quantitative\"}}, \"height\": 400, \"title\": \"Values for Each Category\", \"width\": 300, \"$schema\": \"https://vega.github.io/schema/vega-lite/v5.17.0.json\", \"datasets\": {\"data-54472f9b5832619ff8f7d00ac4250d8a\": [{\"Category\": \"qa\", \"Key\": 2, \"Value\": 0.3363774733637747}, {\"Category\": \"qa\", \"Key\": 7, \"Value\": 0.4048706240487062}, {\"Category\": \"qa\", \"Key\": 1, \"Value\": 0.3287671232876712}, {\"Category\": \"qa\", \"Key\": 5, \"Value\": 0.3181126331811263}, {\"Category\": \"qa\", \"Key\": 6, \"Value\": 0.1841704718417047}, {\"Category\": \"qa\", \"Key\": 3, \"Value\": 0.2831050228310502}, {\"Category\": \"qa\", \"Key\": 4, \"Value\": 0.1050228310502283}, {\"Category\": \"qa\", \"Key\": 0, \"Value\": 0.1796042617960426}, {\"Category\": \"code\", \"Key\": 2, \"Value\": 0.18975198876930277}, {\"Category\": \"code\", \"Key\": 7, \"Value\": 0.19934487599438466}, {\"Category\": \"code\", \"Key\": 1, \"Value\": 0.26123069723912024}, {\"Category\": \"code\", \"Key\": 5, \"Value\": 0.2937529246607394}, {\"Category\": \"code\", \"Key\": 6, \"Value\": 0.3048666354702855}, {\"Category\": \"code\", \"Key\": 3, \"Value\": 0.3899157697707066}, {\"Category\": \"code\", \"Key\": 4, \"Value\": 0.14892372484791763}, {\"Category\": \"code\", \"Key\": 0, \"Value\": 0.22414599906410856}, {\"Category\": \"imbd\", \"Key\": 2, \"Value\": 0.17120844628334997}, {\"Category\": \"imbd\", \"Key\": 7, \"Value\": 0.17120844628334997}, {\"Category\": \"imbd\", \"Key\": 1, \"Value\": 0.28178056784134686}, {\"Category\": \"imbd\", \"Key\": 5, \"Value\": 0.29248109573405623}, {\"Category\": \"imbd\", \"Key\": 6, \"Value\": 0.2889142531031531}, {\"Category\": \"imbd\", \"Key\": 3, \"Value\": 0.38165216150663434}, {\"Category\": \"imbd\", \"Key\": 0, \"Value\": 0.2033100299614781}, {\"Category\": \"imbd\", \"Key\": 4, \"Value\": 0.10700527892709373}]}}, {\"mode\": \"vega-lite\"});\n",
       "</script>"
      ],
      "text/plain": [
       "alt.Chart(...)"
      ]
     },
     "metadata": {},
     "output_type": "display_data"
    }
   ],
   "source": [
    "last_layer_chart.show()"
   ]
  },
  {
   "cell_type": "code",
   "execution_count": null,
   "metadata": {},
   "outputs": [],
   "source": []
  }
 ],
 "metadata": {
  "kernelspec": {
   "display_name": "llm-viz-5M-np4rU-py3.11",
   "language": "python",
   "name": "python3"
  },
  "language_info": {
   "codemirror_mode": {
    "name": "ipython",
    "version": 3
   },
   "file_extension": ".py",
   "mimetype": "text/x-python",
   "name": "python",
   "nbconvert_exporter": "python",
   "pygments_lexer": "ipython3",
   "version": "3.11.9"
  }
 },
 "nbformat": 4,
 "nbformat_minor": 2
}
