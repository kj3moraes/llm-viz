{
 "cells": [
  {
   "cell_type": "markdown",
   "metadata": {},
   "source": [
    "# Visualing the Attention Maps\n",
    "\n",
    "This experiment is in visualizing the attention maps in GPT-2. I want to see\n",
    "- which token the different heads of a single layer pay attention to\n",
    "- which token the same heads in different layers pay attention to. "
   ]
  },
  {
   "cell_type": "code",
   "execution_count": 6,
   "metadata": {},
   "outputs": [],
   "source": [
    "import torch as t\n",
    "import pandas as pd\n",
    "from transformers import AutoModel, AutoTokenizer, GPT2Model, GPT2TokenizerFast, GPT2LMHeadModel\n",
    "from datasets import load_dataset\n",
    "import altair as alt\n",
    "\n",
    "device = \"cuda\" if t.cuda.is_available() else \"cpu\"\n",
    "device = \"mps\" if t.backends.mps.is_available() else \"cpu\""
   ]
  },
  {
   "cell_type": "code",
   "execution_count": 21,
   "metadata": {},
   "outputs": [],
   "source": [
    "model_id = \"openai-community/gpt2-medium\"\n",
    "model = AutoModel.from_pretrained(model_id, output_attentions=True)\n",
    "tokenizer = AutoTokenizer.from_pretrained(model_id)"
   ]
  },
  {
   "cell_type": "code",
   "execution_count": 26,
   "metadata": {},
   "outputs": [
    {
     "data": {
      "text/plain": [
       "({'input_ids': [464, 3797, 15063, 262, 2603, 13, 843, 788, 3332, 319, 257, 4227], 'attention_mask': [1, 1, 1, 1, 1, 1, 1, 1, 1, 1, 1, 1]},\n",
       " tensor([[  464,  3797, 15063,   262,  2603,    13,   843,   788,  3332,   319,\n",
       "            257,  4227]]))"
      ]
     },
     "execution_count": 26,
     "metadata": {},
     "output_type": "execute_result"
    }
   ],
   "source": [
    "txt = \"The cat ate the mat. And then sat on a rat\"\n",
    "tokens = tokenizer(txt)\n",
    "inputs = tokenizer(txt, return_tensors='pt').input_ids\n",
    "tokens, inputs"
   ]
  },
  {
   "cell_type": "code",
   "execution_count": 25,
   "metadata": {},
   "outputs": [
    {
     "data": {
      "text/plain": [
       "torch.Size([1, 16, 12, 12])"
      ]
     },
     "execution_count": 25,
     "metadata": {},
     "output_type": "execute_result"
    }
   ],
   "source": [
    "attns = model(inputs).attentions\n",
    "first_layer_attn = attns[0]\n",
    "first_layer_attn.shape"
   ]
  }
 ],
 "metadata": {
  "kernelspec": {
   "display_name": "llm-viz-5M-np4rU-py3.11",
   "language": "python",
   "name": "python3"
  },
  "language_info": {
   "codemirror_mode": {
    "name": "ipython",
    "version": 3
   },
   "file_extension": ".py",
   "mimetype": "text/x-python",
   "name": "python",
   "nbconvert_exporter": "python",
   "pygments_lexer": "ipython3",
   "version": "3.11.2"
  }
 },
 "nbformat": 4,
 "nbformat_minor": 2
}
